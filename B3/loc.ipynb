{
 "cells": [
  {
   "cell_type": "code",
   "execution_count": null,
   "id": "edd60897",
   "metadata": {},
   "outputs": [],
   "source": [
    "# add dữ liệu từ csv\n",
    "import pandas as pd\n",
    "df = pd.read_csv(\"products.csv\")\n",
    "df.tail(2)"
   ]
  },
  {
   "cell_type": "markdown",
   "id": "a24755ae",
   "metadata": {},
   "source": [
    "## Lọc bằng chỉ số (iloc)"
   ]
  },
  {
   "cell_type": "markdown",
   "id": "7fa1b7de",
   "metadata": {},
   "source": [
    "> `iloc` lọc dữ liệu dựa trên vị trí chỉ số trong DataFrame"
   ]
  },
  {
   "cell_type": "code",
   "execution_count": null,
   "id": "14fbaa9b",
   "metadata": {},
   "outputs": [],
   "source": [
    "df.iloc[:3] # lay 3 dong dau tien"
   ]
  },
  {
   "cell_type": "code",
   "execution_count": null,
   "id": "64ee53ce",
   "metadata": {},
   "outputs": [],
   "source": [
    "df.iloc[2::2, 2:] # lay dong 2 -> 5 (buoc nhay 2), cot 2 -> cuoi"
   ]
  },
  {
   "cell_type": "markdown",
   "id": "74c3d068",
   "metadata": {},
   "source": [
    "## Lọc bằng nhãn (loc)"
   ]
  },
  {
   "cell_type": "markdown",
   "id": "95a69961",
   "metadata": {},
   "source": [
    "> `loc` lọc dữ liệu dựa trên nhãn của chỉ số trong DataFrame"
   ]
  },
  {
   "cell_type": "code",
   "execution_count": null,
   "id": "029c98a1",
   "metadata": {},
   "outputs": [],
   "source": [
    "df.loc[3: , [\"gia ban\", \"category\"]] # lay tu dong 3 -> cuoi, cot gia ban + category"
   ]
  },
  {
   "cell_type": "code",
   "execution_count": null,
   "id": "c883bc97",
   "metadata": {},
   "outputs": [],
   "source": [
    "df.loc[df[\"gia ban\"] > 25000000, : \"ngay tao\"] # lay dong nao co gia ban > 25tr, cot 0 -> ngay tao"
   ]
  }
 ],
 "metadata": {
  "language_info": {
   "name": "python"
  }
 },
 "nbformat": 4,
 "nbformat_minor": 5
}
