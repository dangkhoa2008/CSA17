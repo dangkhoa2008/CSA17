{
 "cells": [
  {
   "cell_type": "code",
   "execution_count": 4,
   "id": "05484dfa",
   "metadata": {},
   "outputs": [
    {
     "data": {
      "text/plain": [
       "{'tên': ['Laptop XYZ',\n",
       "  'Điện thoại ABC',\n",
       "  'Chuột không dây Pro',\n",
       "  'Bàn phím cơ R200',\n",
       "  'Màn hình 27 inch 4K'],\n",
       " 'giá bán': [1500.0, 799.99, 25.5, 85.0, 450.0],\n",
       " 'ngày tạo': ['2025-09-01',\n",
       "  '2025-08-15',\n",
       "  '2025-09-20',\n",
       "  '2025-07-10',\n",
       "  '2025-06-25'],\n",
       " 'category': ['Thiết bị điện tử',\n",
       "  'Thiết bị di động',\n",
       "  'Phụ kiện máy tính',\n",
       "  'Phụ kiện máy tính',\n",
       "  'Thiết bị điện tử']}"
      ]
     },
     "execution_count": 4,
     "metadata": {},
     "output_type": "execute_result"
    }
   ],
   "source": [
    "# data\n",
    "products = {\n",
    "    \"tên\": [\n",
    "        \"Laptop XYZ\",\n",
    "        \"Điện thoại ABC\",\n",
    "        \"Chuột không dây Pro\",\n",
    "        \"Bàn phím cơ R200\",\n",
    "        \"Màn hình 27 inch 4K\"\n",
    "    ],\n",
    "    \"giá bán\": [\n",
    "        1500.00,\n",
    "        799.99,\n",
    "        25.50,\n",
    "        85.00,\n",
    "        450.00\n",
    "    ],\n",
    "    \"ngày tạo\": [\n",
    "        \"2025-09-01\",\n",
    "        \"2025-08-15\",\n",
    "        \"2025-09-20\",\n",
    "        \"2025-07-10\",\n",
    "        \"2025-06-25\"\n",
    "    ],\n",
    "    \"category\": [\n",
    "        \"Thiết bị điện tử\",\n",
    "        \"Thiết bị di động\",\n",
    "        \"Phụ kiện máy tính\",\n",
    "        \"Phụ kiện máy tính\",\n",
    "        \"Thiết bị điện tử\"\n",
    "    ]\n",
    "}\n",
    "products"
   ]
  },
  {
   "cell_type": "markdown",
   "id": "431fbb2e",
   "metadata": {},
   "source": [
    "## Tạo csv với pandas\n",
    "- Chuyển dữ liệu dict -> dataframe\n",
    "- Dùng hàm to_csv()"
   ]
  },
  {
   "cell_type": "code",
   "execution_count": 5,
   "id": "260d25d7",
   "metadata": {},
   "outputs": [
    {
     "ename": "ModuleNotFoundError",
     "evalue": "No module named 'pandas'",
     "output_type": "error",
     "traceback": [
      "\u001b[0;31m---------------------------------------------------------------------------\u001b[0m",
      "\u001b[0;31mModuleNotFoundError\u001b[0m                       Traceback (most recent call last)",
      "Cell \u001b[0;32mIn[5], line 1\u001b[0m\n\u001b[0;32m----> 1\u001b[0m \u001b[38;5;28;01mimport\u001b[39;00m\u001b[38;5;250m \u001b[39m\u001b[38;5;21;01mpandas\u001b[39;00m\u001b[38;5;250m \u001b[39m\u001b[38;5;28;01mas\u001b[39;00m\u001b[38;5;250m \u001b[39m\u001b[38;5;21;01mpd\u001b[39;00m\n\u001b[1;32m      3\u001b[0m df \u001b[38;5;241m=\u001b[39m pd\u001b[38;5;241m.\u001b[39mDataFrame(products)\n\u001b[1;32m      4\u001b[0m df\u001b[38;5;241m.\u001b[39mto_csv(\u001b[38;5;124m\"\u001b[39m\u001b[38;5;124mproducts.csv\u001b[39m\u001b[38;5;124m\"\u001b[39m, index\u001b[38;5;241m=\u001b[39m\u001b[38;5;28;01mFalse\u001b[39;00m)\n",
      "\u001b[0;31mModuleNotFoundError\u001b[0m: No module named 'pandas'"
     ]
    }
   ],
   "source": [
    "import pandas as pd\n",
    "\n",
    "df = pd.DataFrame(products)\n",
    "df.to_csv(\"products.csv\", index=False)"
   ]
  },
  {
   "cell_type": "markdown",
   "id": "93214b26",
   "metadata": {},
   "source": [
    "## Đọc csv với pandas\n",
    "- Khi trả về -> dataframe\n",
    "- Dùng các hàm hỗ trợ để in thông tin của bảng dữ liệu\n",
    "  - info()\n",
    "  - describle()\n",
    "  - shape + dtypes (bien)\n",
    "  - head() + tail()"
   ]
  },
  {
   "cell_type": "code",
   "execution_count": null,
   "id": "11ab9982",
   "metadata": {},
   "outputs": [],
   "source": [
    "# ham read_csv báo lỗi khi không có file\n",
    "try:\n",
    "    df_from_csv = pd.read_csv(\"products.csv\")\n",
    "    print(df_from_csv)\n",
    "    print(\"Info: ----------------------\")\n",
    "    print(df_from_csv.info())\n",
    "    print(\"Describe: ----------------------\")\n",
    "    print(df_from_csv.describe())\n",
    "    print(\"Shape: ----------------------\")\n",
    "    print(df_from_csv.shape)\n",
    "    print(\"dtypes: ----------------------\")\n",
    "    print(df_from_csv.dtypes)\n",
    "    print(\"head: ----------------------\")\n",
    "    print(df_from_csv.head(1))\n",
    "    print(\"tail: ----------------------\")\n",
    "    print(df_from_csv.tail(2))\n",
    "except Exception as e:\n",
    "    print(\"Loi:\", e)"
   ]
  },
  {
   "cell_type": "markdown",
   "id": "18778f89",
   "metadata": {},
   "source": [
    "## Lọc dữ liệu"
   ]
  },
  {
   "cell_type": "markdown",
   "id": "95ea499d",
   "metadata": {},
   "source": [
    "## Lọc cột\n",
    "`<ten_dataframe>['<ten cot>']`"
   ]
  },
  {
   "cell_type": "code",
   "execution_count": null,
   "id": "0d3498db",
   "metadata": {},
   "outputs": [],
   "source": [
    "# lọc cột với dữ liệu trên 2000000\n",
    "df_from_csv[\"price\"] > 2000000"
   ]
  },
  {
   "cell_type": "code",
   "execution_count": null,
   "id": "e13f6ed9",
   "metadata": {},
   "outputs": [],
   "source": [
    "new_data = df_from_csv[[\"price\",\"category\"]]\n",
    "new_data[df_from_csv[\"price\"] > 3000000]"
   ]
  },
  {
   "cell_type": "code",
   "execution_count": null,
   "id": "c030ec28",
   "metadata": {},
   "outputs": [],
   "source": [
    "# loc 2 hang dau\n",
    "df_from_csv[:2]"
   ]
  },
  {
   "cell_type": "code",
   "execution_count": null,
   "id": "4c322396",
   "metadata": {},
   "outputs": [],
   "source": [
    "df_from_csv[1::2]"
   ]
  },
  {
   "cell_type": "markdown",
   "id": "9509acf4",
   "metadata": {},
   "source": [
    "## Thay đổi index"
   ]
  },
  {
   "cell_type": "code",
   "execution_count": 1,
   "id": "f8f173fc",
   "metadata": {},
   "outputs": [
    {
     "ename": "NameError",
     "evalue": "name 'df_from_csv' is not defined",
     "output_type": "error",
     "traceback": [
      "\u001b[0;31m---------------------------------------------------------------------------\u001b[0m",
      "\u001b[0;31mNameError\u001b[0m                                 Traceback (most recent call last)",
      "Cell \u001b[0;32mIn[1], line 1\u001b[0m\n\u001b[0;32m----> 1\u001b[0m \u001b[43mdf_from_csv\u001b[49m\u001b[38;5;241m.\u001b[39mset_index(\u001b[38;5;124m\"\u001b[39m\u001b[38;5;124mten\u001b[39m\u001b[38;5;124m\"\u001b[39m, inplace\u001b[38;5;241m=\u001b[39m\u001b[38;5;28;01mTrue\u001b[39;00m)\n\u001b[1;32m      2\u001b[0m df_from_csv\n",
      "\u001b[0;31mNameError\u001b[0m: name 'df_from_csv' is not defined"
     ]
    }
   ],
   "source": [
    "df_from_csv.set_index(\"ten\", inplace=True)\n",
    "df_from_csv"
   ]
  },
  {
   "cell_type": "code",
   "execution_count": 3,
   "id": "99e5974e",
   "metadata": {},
   "outputs": [
    {
     "ename": "NameError",
     "evalue": "name 'df_from_csv' is not defined",
     "output_type": "error",
     "traceback": [
      "\u001b[0;31m---------------------------------------------------------------------------\u001b[0m",
      "\u001b[0;31mNameError\u001b[0m                                 Traceback (most recent call last)",
      "Cell \u001b[0;32mIn[3], line 1\u001b[0m\n\u001b[0;32m----> 1\u001b[0m \u001b[43mdf_from_csv\u001b[49m\u001b[38;5;241m.\u001b[39mreset_index\n\u001b[1;32m      2\u001b[0m df_from_csv\n",
      "\u001b[0;31mNameError\u001b[0m: name 'df_from_csv' is not defined"
     ]
    }
   ],
   "source": [
    "df_from_csv.reset_index\n",
    "df_from_csv"
   ]
  }
 ],
 "metadata": {
  "kernelspec": {
   "display_name": "Python 3",
   "language": "python",
   "name": "python3"
  },
  "language_info": {
   "codemirror_mode": {
    "name": "ipython",
    "version": 3
   },
   "file_extension": ".py",
   "mimetype": "text/x-python",
   "name": "python",
   "nbconvert_exporter": "python",
   "pygments_lexer": "ipython3",
   "version": "3.9.6"
  }
 },
 "nbformat": 4,
 "nbformat_minor": 5
}
