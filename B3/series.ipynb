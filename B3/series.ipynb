{
 "cells": [
  {
   "cell_type": "markdown",
   "id": "9c979adb",
   "metadata": {},
   "source": [
    "Tao series\n",
    "- C1: tạo bằng list = index\n",
    "- C2: tạo bằng "
   ]
  },
  {
   "cell_type": "code",
   "execution_count": null,
   "id": "e3796c67",
   "metadata": {},
   "outputs": [],
   "source": [
    "data = {\n",
    "    \"Hoa\": 37,\n",
    "    \"Phượng\": 38,\n",
    "    \"Nam\": 48,\n",
    "    \"Thu\": 40,\n",
    "    \"Hải\": 42,\n",
    "    \"Vũ\": 40,\n",
    "    \"Linh\": 39,\n",
    "    \"Bảo\": 43,\n",
    "    \"Nhân\": 41\n",
    "}\n",
    "data # type: dict"
   ]
  },
  {
   "cell_type": "code",
   "execution_count": null,
   "id": "cb35418c",
   "metadata": {},
   "outputs": [],
   "source": [
    "# Tach dict thanh 2 danh sach\n",
    "weights = data.values()\n",
    "names = data.keys()\n",
    "\n",
    "import pandas as pd\n",
    "series1 = pd.Series(weights, index=names)\n",
    "series1.describe() # type: pd.Series"
   ]
  },
  {
   "cell_type": "code",
   "execution_count": null,
   "id": "af56aea2",
   "metadata": {},
   "outputs": [],
   "source": [
    "import pandas as pd\n",
    "series2 =pd.Series(data)\n",
    "series2.describe() # type: pd.Series"
   ]
  },
  {
   "cell_type": "markdown",
   "id": "334a65a7",
   "metadata": {},
   "source": [
    "# mean - trung bình cộng \n",
    "- Dễ bị ảnh hưởng bởi `gía trị ngoại lai (outlier)`"
   ]
  },
  {
   "cell_type": "code",
   "execution_count": null,
   "id": "483806e4",
   "metadata": {},
   "outputs": [],
   "source": [
    "series2.mean() # type: float"
   ]
  },
  {
   "cell_type": "markdown",
   "id": "6e882276",
   "metadata": {},
   "source": [
    "# median - trung vị\n",
    "- Cách tính: số ở giữa của danh sách đã **được sắp xếp**\n",
    "- Nếu danh sách có n phần tử (n là **số chẵn**) -> trung bình cộng của 2 số ở giữa\n",
    "- `Ít bị ảnh hưởng bởi outlier hơn mean`"
   ]
  },
  {
   "cell_type": "code",
   "execution_count": null,
   "id": "9220109a",
   "metadata": {},
   "outputs": [],
   "source": [
    "series2.median() # type: float"
   ]
  },
  {
   "cell_type": "markdown",
   "id": "1b6e6232",
   "metadata": {},
   "source": [
    "# mode - giá trị xuất hiện nhiều nhất\n",
    "- Giá trị nào xuất hiện với tần xuất cao nhất\n",
    "- **Có thể có nhiều giá trị phổ biến**\n",
    "- `Lấy giá trị phổ biến nhất.`"
   ]
  },
  {
   "cell_type": "code",
   "execution_count": null,
   "id": "3a981174",
   "metadata": {},
   "outputs": [],
   "source": [
    "series2.mode() # type: pandas.Series"
   ]
  }
 ],
 "metadata": {
  "kernelspec": {
   "display_name": "Python 3",
   "language": "python",
   "name": "python3"
  },
  "language_info": {
   "name": "python",
   "version": "3.9.6"
  }
 },
 "nbformat": 4,
 "nbformat_minor": 5
}
