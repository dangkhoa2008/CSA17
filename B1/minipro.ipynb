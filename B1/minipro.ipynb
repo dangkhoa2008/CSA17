{
 "cells": [
  {
   "cell_type": "markdown",
   "id": "2972957c",
   "metadata": {},
   "source": [
    "## Đặt phát biểu vấn đề\n",
    "- Liệt kê 3 lĩnh vực hoặc nguồn dữ liệu mà bạn quan tâm\n",
    "- Dẫn link một số trang web chia sẻ dữ liệu"
   ]
  },
  {
   "cell_type": "markdown",
   "id": "0b586aa1",
   "metadata": {},
   "source": [
    "## Đặt câu hỏi thống kê\n",
    "- Vấn đề bạn đang quan tâm?\n",
    "- Lập 2 câu hỏi thống kê về vấn đề mà bạn quan tâm \n",
    "- Sử dụng AI để hỗ trợ đặt câu hỏi"
   ]
  },
  {
   "cell_type": "markdown",
   "id": "bd066790",
   "metadata": {},
   "source": [
    "## Dữ liệu\n",
    "- Link dataset\n",
    "- Sử dụng dữ liệu từ cột nào trong dataset"
   ]
  },
  {
   "cell_type": "markdown",
   "id": "d43724c9",
   "metadata": {},
   "source": [
    "https://www.kaggle.com/datasets/agirlcoding/all-space-missions-from-1957\n",
    "https://www.kaggle.com/datasets/sougatapramanick/happiness2018\n",
    "https://www.kaggle.com/datasets/catherinerasgaitis/mxmh-survey-results\n",
    "https://www.wolframalpha.com/\n",
    "https://www.gapminder.org/data/\n",
    "https://data.gov/\n",
    "https://datasetsearch.research.google.com/"
   ]
  }
 ],
 "metadata": {
  "language_info": {
   "name": "python"
  }
 },
 "nbformat": 4,
 "nbformat_minor": 5
}
