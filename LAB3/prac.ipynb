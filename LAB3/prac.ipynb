{
 "cells": [
  {
   "cell_type": "code",
   "execution_count": 2,
   "id": "65e95d61",
   "metadata": {},
   "outputs": [
    {
     "ename": "ModuleNotFoundError",
     "evalue": "No module named 'pandas'",
     "output_type": "error",
     "traceback": [
      "\u001b[0;31m---------------------------------------------------------------------------\u001b[0m",
      "\u001b[0;31mModuleNotFoundError\u001b[0m                       Traceback (most recent call last)",
      "Cell \u001b[0;32mIn[2], line 1\u001b[0m\n\u001b[0;32m----> 1\u001b[0m \u001b[38;5;28;01mimport\u001b[39;00m\u001b[38;5;250m \u001b[39m\u001b[38;5;21;01mpandas\u001b[39;00m\u001b[38;5;250m \u001b[39m\u001b[38;5;28;01mas\u001b[39;00m\u001b[38;5;250m \u001b[39m\u001b[38;5;21;01mpd\u001b[39;00m\n\u001b[1;32m      3\u001b[0m df \u001b[38;5;241m=\u001b[39m pd\u001b[38;5;241m.\u001b[39mread_csv(\u001b[38;5;124m\"\u001b[39m\u001b[38;5;124mhw3.csv\u001b[39m\u001b[38;5;124m\"\u001b[39m)\n\u001b[1;32m      4\u001b[0m df\u001b[38;5;241m.\u001b[39mtail(\u001b[38;5;241m2\u001b[39m)\n",
      "\u001b[0;31mModuleNotFoundError\u001b[0m: No module named 'pandas'"
     ]
    }
   ],
   "source": [
    "import pandas as pd\n",
    "\n",
    "df = pd.read_csv(\"hw3.csv\")\n",
    "df.tail(2)"
   ]
  },
  {
   "cell_type": "code",
   "execution_count": 1,
   "id": "430ed6b0",
   "metadata": {},
   "outputs": [
    {
     "ename": "NameError",
     "evalue": "name 'df' is not defined",
     "output_type": "error",
     "traceback": [
      "\u001b[0;31m---------------------------------------------------------------------------\u001b[0m",
      "\u001b[0;31mNameError\u001b[0m                                 Traceback (most recent call last)",
      "Cell \u001b[0;32mIn[1], line 2\u001b[0m\n\u001b[1;32m      1\u001b[0m \u001b[38;5;66;03m# Câu hỏi 1: Có bao nhiêu người trên 30 tuổi trong dữ liệu? \u001b[39;00m\n\u001b[0;32m----> 2\u001b[0m ds_tren_30 \u001b[38;5;241m=\u001b[39m \u001b[43mdf\u001b[49m\u001b[38;5;241m.\u001b[39mloc[df[\u001b[38;5;124m\"\u001b[39m\u001b[38;5;124mage\u001b[39m\u001b[38;5;124m\"\u001b[39m] \u001b[38;5;241m>\u001b[39m \u001b[38;5;241m30\u001b[39m, :]\n\u001b[1;32m      3\u001b[0m \u001b[38;5;28mlen\u001b[39m(ds_tren_30) \n",
      "\u001b[0;31mNameError\u001b[0m: name 'df' is not defined"
     ]
    }
   ],
   "source": [
    "# Câu hỏi 1: Có bao nhiêu người trên 30 tuổi trong dữ liệu? \n",
    "ds_tren_30 = df.loc[df[\"age\"] > 30, :]\n",
    "len(ds_tren_30) "
   ]
  },
  {
   "cell_type": "code",
   "execution_count": 3,
   "id": "039ffd28",
   "metadata": {},
   "outputs": [
    {
     "ename": "NameError",
     "evalue": "name 'df' is not defined",
     "output_type": "error",
     "traceback": [
      "\u001b[0;31m---------------------------------------------------------------------------\u001b[0m",
      "\u001b[0;31mNameError\u001b[0m                                 Traceback (most recent call last)",
      "Cell \u001b[0;32mIn[3], line 2\u001b[0m\n\u001b[1;32m      1\u001b[0m \u001b[38;5;66;03m# Câu hỏi 2: Tổng số tiền lương của tất cả các người có trong dữ liệu là bao nhiêu? \u001b[39;00m\n\u001b[0;32m----> 2\u001b[0m tong_luong \u001b[38;5;241m=\u001b[39m \u001b[43mdf\u001b[49m\u001b[38;5;241m.\u001b[39miloc[:, \u001b[38;5;241m3\u001b[39m:]\u001b[38;5;241m.\u001b[39msum()\n\u001b[1;32m      3\u001b[0m tong_luong\n",
      "\u001b[0;31mNameError\u001b[0m: name 'df' is not defined"
     ]
    }
   ],
   "source": [
    "# Câu hỏi 2: Tổng số tiền lương của tất cả các người có trong dữ liệu là bao nhiêu? \n",
    "tong_luong = df.iloc[:, 3:].sum()\n",
    "tong_luong"
   ]
  },
  {
   "cell_type": "code",
   "execution_count": null,
   "id": "6a31978c",
   "metadata": {},
   "outputs": [],
   "source": [
    "# Câu hỏi 3: Có bao nhiêu người có lương lớn hơn 50,000 và tuổi nhỏ hơn 40?\n",
    "ds_luong50_tuoi40 = df.loc[(df[\"salary\"] > 50000) & (df[\"age\"] < 40), :]\n",
    "ds_luong50_tuoi40"
   ]
  },
  {
   "cell_type": "markdown",
   "id": "c1d311d0",
   "metadata": {},
   "source": [
    "\n",
    "## Dấu bitwise:\n",
    "- & (and)\n",
    "- | (or)\n",
    "- ~ (not)"
   ]
  }
 ],
 "metadata": {
  "kernelspec": {
   "display_name": "Python 3",
   "language": "python",
   "name": "python3"
  },
  "language_info": {
   "codemirror_mode": {
    "name": "ipython",
    "version": 3
   },
   "file_extension": ".py",
   "mimetype": "text/x-python",
   "name": "python",
   "nbconvert_exporter": "python",
   "pygments_lexer": "ipython3",
   "version": "3.9.6"
  }
 },
 "nbformat": 4,
 "nbformat_minor": 5
}
