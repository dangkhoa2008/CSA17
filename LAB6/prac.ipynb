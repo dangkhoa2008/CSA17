{
 "cells": [
  {
   "cell_type": "code",
   "execution_count": null,
   "id": "7a60ef96",
   "metadata": {},
   "outputs": [],
   "source": [
    "fig, ax1 = plt.subplots(figsize=(10, 6))\n",
    "\n",
    "# cot: total bill\n",
    "bars = ax1.bar(daily_avg[\"day\"], daily_avg[\"total_bill\"], label=\"Trung bình tổng hóa đơn\", color=\"purple\")\n",
    "\n",
    "ax1.set_xlabel(\"Ngày trong tuần\")\n",
    "ax1.set_ylabel(\"Tổng hóa đơn trung bình ($)\")\n",
    "ax1.tick_params(axis=\"y\", labelcolor=\"blue\")\n",
    "\n",
    "# line: tip\n",
    "ax2 = ax1.twinx()\n",
    "ax2.plot(daily_avg[\"day\"], daily_avg[\"tip\"], color=\"pink\", marker=\"o\", linewidth=2, label=\"Trung bình tiền tip\")\n",
    "ax2.set_ylabel(\"Tiền tip trung bình ($)\")\n",
    "ax2.tick_params(axis=\"y\", labelcolor=\"blue\")\n",
    "\n",
    "# tieu de\n",
    "plt.title(\"Xu hướng số tiền tips và tổng hoá đơn theo ngày trong tuần\", fontsize=14)\n",
    "\n",
    "# chu thich\n",
    "lines, labels = ax1.get_legend_handles_labels()\n",
    "lines2, labels2 = ax2.get_legend_handles_labels()\n",
    "ax1.legend(lines + lines, labels + labels2, loc=\"upper left\")\n",
    "\n",
    "plt.grid(axis=\"y\", linestyle=\"--\", alpha=0.6)\n",
    "plt.tight_layout()\n",
    "plt.show()"
   ]
  },
  {
   "cell_type": "code",
   "execution_count": null,
   "id": "6f5a1e31",
   "metadata": {},
   "outputs": [],
   "source": [
    "order = [\"Thur\", \"Fri\", \"Sat\", \"Sun\"]\n",
    "daily_avg[\"day\"] = pd.Categorical(daily_avg[\"day\"], categories=order, ordered=True)\n",
    "daily_avg = daily_avg.sort_values(\"day\")"
   ]
  }
 ],
 "metadata": {
  "language_info": {
   "name": "python"
  }
 },
 "nbformat": 4,
 "nbformat_minor": 5
}
