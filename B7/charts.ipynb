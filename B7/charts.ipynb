{
 "cells": [
  {
   "cell_type": "code",
   "execution_count": null,
   "id": "ee7178d5",
   "metadata": {},
   "outputs": [],
   "source": [
    "import pandas as pd\n",
    "import matplotlib.pyplot as plt"
   ]
  },
  {
   "cell_type": "code",
   "execution_count": null,
   "id": "cfea15b3",
   "metadata": {},
   "outputs": [],
   "source": [
    "df= pd.read_csv(\"spotify.csv\")\n",
    "df.isna().sum()"
   ]
  },
  {
   "cell_type": "code",
   "execution_count": null,
   "id": "a1c88d56",
   "metadata": {},
   "outputs": [],
   "source": [
    "df.tail()"
   ]
  },
  {
   "cell_type": "markdown",
   "id": "235711e7",
   "metadata": {},
   "source": [
    "# plot:\n",
    "- Biểu đồ đường cong"
   ]
  },
  {
   "cell_type": "code",
   "execution_count": null,
   "id": "e9cacf3d",
   "metadata": {},
   "outputs": [],
   "source": [
    "# ve bieu do duong cho Monthly Listeners (Millions)\n",
    "plt.figure(figsize=(14,6))\n",
    "plt.plot(df[\"Monthly Listeners (Millions)\"], marker=\"o\", linestyle=\"-\", linewidth=2)\n",
    "plt.ylabel(\"Monthly Listeners (Millions)\", fontsize=14)\n",
    "plt.title(\"Biểu đồ đường số người nghe trong tháng theo từnG album\")\n",
    "\n",
    "plt.grid()"
   ]
  },
  {
   "cell_type": "markdown",
   "id": "27401b6c",
   "metadata": {},
   "source": [
    "# bar\n",
    "- biểu đồ cột"
   ]
  },
  {
   "cell_type": "code",
   "execution_count": null,
   "id": "37765366",
   "metadata": {},
   "outputs": [],
   "source": [
    "# gom nhom data\n",
    "artist_streams = df.groupby(\"Artist\")[\"Total Streams (Millions)\"].sum().nlargest(10)\n",
    "artist_streams"
   ]
  },
  {
   "cell_type": "code",
   "execution_count": null,
   "id": "0bda8b46",
   "metadata": {},
   "outputs": [],
   "source": [
    "# ve bieu do cot ngang\n",
    "plt.figure(figsize=(10, 15))\n",
    "artist_streams.plot(kind=\"barh\", color=\"#F5276C\", edgecolor=\"#F5B027\")\n",
    "\n",
    "plt.title(\"Top 10 nghệ sĩ có stream cao nhất\", fontsize=14)\n",
    "plt.xlabel(\"Artist\", fontsize=12)\n",
    "# dao truc de nghe si cao nhat nam o tren\n",
    "plt.gca().invert_yaxis()\n",
    "\n",
    "plt.grid(asix=\"x\", linestyle=\"--\", alpha=0.6)\n",
    "plt.title_layout()\n",
    "\n",
    "plt.show()"
   ]
  },
  {
   "cell_type": "code",
   "execution_count": null,
   "id": "a2194219",
   "metadata": {},
   "outputs": [],
   "source": [
    "# add df tu bilionaires\n",
    "df_bili = pd.read_csv(\"../B4/Bilionaires.csv\")\n",
    "df_bili.isnull().sum()"
   ]
  },
  {
   "cell_type": "code",
   "execution_count": null,
   "id": "d41629f2",
   "metadata": {},
   "outputs": [],
   "source": [
    "# xu ly null cua cot tuoi -> tuoi trung binh\n",
    "df_bili[\"age\"] = df_bili[\"age\"].fillna(df_bili[\"age\"].mean()).round()\n",
    "df_bili[\"age\"]"
   ]
  },
  {
   "cell_type": "code",
   "execution_count": null,
   "id": "ceda18e6",
   "metadata": {},
   "outputs": [],
   "source": [
    "# doi kieu int cho age\n",
    "df_bili[\"age\"] = df_bili[\"age\"].astype(int)\n",
    "df_"
   ]
  }
 ],
 "metadata": {
  "language_info": {
   "name": "python"
  }
 },
 "nbformat": 4,
 "nbformat_minor": 5
}
