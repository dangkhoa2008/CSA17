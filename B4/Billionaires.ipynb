{
 "cells": [
  {
   "cell_type": "code",
   "execution_count": 3,
   "id": "9472a158",
   "metadata": {},
   "outputs": [
    {
     "ename": "ModuleNotFoundError",
     "evalue": "No module named 'pandas'",
     "output_type": "error",
     "traceback": [
      "\u001b[0;31m---------------------------------------------------------------------------\u001b[0m",
      "\u001b[0;31mModuleNotFoundError\u001b[0m                       Traceback (most recent call last)",
      "Cell \u001b[0;32mIn[3], line 1\u001b[0m\n\u001b[0;32m----> 1\u001b[0m \u001b[38;5;28;01mimport\u001b[39;00m\u001b[38;5;250m \u001b[39m\u001b[38;5;21;01mpandas\u001b[39;00m\u001b[38;5;250m \u001b[39m\u001b[38;5;28;01mas\u001b[39;00m\u001b[38;5;250m \u001b[39m\u001b[38;5;21;01mpd\u001b[39;00m\n\u001b[1;32m      2\u001b[0m df \u001b[38;5;241m=\u001b[39m pd\u001b[38;5;241m.\u001b[39mread_csv(\u001b[38;5;124m\"\u001b[39m\u001b[38;5;124mBillionaires.csv\u001b[39m\u001b[38;5;124m\"\u001b[39m)\n\u001b[1;32m      3\u001b[0m df\u001b[38;5;241m.\u001b[39mhead()\n",
      "\u001b[0;31mModuleNotFoundError\u001b[0m: No module named 'pandas'"
     ]
    }
   ],
   "source": [
    "import pandas as pd\n",
    "df = pd.read_csv(\"Billionaires.csv\")\n",
    "df.head()"
   ]
  },
  {
   "cell_type": "markdown",
   "id": "af9dfc15",
   "metadata": {},
   "source": [
    "- Dữ liệu bao gồm bao nhiêu hàng + cột? 2640 + 35\n",
    "- Kiểu dữ liệu các cột? "
   ]
  },
  {
   "cell_type": "code",
   "execution_count": null,
   "id": "caedc0c9",
   "metadata": {},
   "outputs": [],
   "source": [
    "df.info()"
   ]
  },
  {
   "cell_type": "markdown",
   "id": "5c405bc5",
   "metadata": {},
   "source": [
    "- Cột gdp_country kiểu dữ liệu gì? -> có thể thống kê cho kiểu dữ liệu này không?\n",
    "\n",
    "- Cách chuyển dữ liệu cho cột?\n"
   ]
  },
  {
   "cell_type": "code",
   "execution_count": null,
   "id": "30070166",
   "metadata": {},
   "outputs": [],
   "source": [
    "# trich cot gdp_country\n",
    "gdp_country_series = df[\"gdp_country\"]\n",
    "gdp_country_series.head()\n",
    "gdp_country_series.dtype"
   ]
  },
  {
   "cell_type": "markdown",
   "id": "18bbb6eb",
   "metadata": {},
   "source": [
    "## Biến đổi dữ liệu với apply"
   ]
  },
  {
   "cell_type": "markdown",
   "id": "5451bc7f",
   "metadata": {},
   "source": [
    "> `DataFrame.apply(<hàm biến đổi>)` thay đổi tất cả giá trị trong cột. Hàm biến đổi có thể là làm có sẵn hoặc tự định nghĩa."
   ]
  },
  {
   "cell_type": "code",
   "execution_count": null,
   "id": "e3e5e74b",
   "metadata": {},
   "outputs": [],
   "source": [
    "# hàm sử lí dữ liệu \"$..,... \" -> số\n",
    "def process_gdp(gdp_str):\n",
    "    # cat $ \n",
    "    gdp_str = gdp_str[1:]\n",
    "    # cat space duoi\n",
    "    gdp_str = gdp_str.strip()\n",
    "    # cat dau ,\n",
    "    gdp_str = gdp_str.replace(\",\", \"\")\n",
    "    # ep kieu float\n",
    "    gdp_float = float(gdp_str)\n",
    "    return gdp_float\n",
    "\n",
    "process_gdp(\"$21,427,700,000,000 \")\n"
   ]
  },
  {
   "cell_type": "code",
   "execution_count": null,
   "id": "0edcdb49",
   "metadata": {},
   "outputs": [],
   "source": [
    "# apply vao series\n",
    "gdp_country_series_new = gdp_country_series.apply(lambda gdp: process_gdp(gdp))\n",
    "gdp_country_series_new.head()\n",
    "# to_numberic -> chuyển đổi kiểu dữ liệu cột từ string sang số\n",
    "pd.to_numeric(gdp_country_series_new).dtype"
   ]
  },
  {
   "cell_type": "markdown",
   "id": "ee78c650",
   "metadata": {},
   "source": [
    "## Nhóm dữ liệu (gruopby)"
   ]
  },
  {
   "cell_type": "markdown",
   "id": "3d154bf6",
   "metadata": {},
   "source": [
    "- Phân tích: Những lĩnh vực nào có tổng lượng tài sản lớn nhất?\n",
    "  - Nhóm cột finalWorth (tr USD) theo cột industries/ category\n",
    "  - Tính tổng cột finalWorth\n",
    "  - Sắp xếp theo thứ tự giảm dần"
   ]
  },
  {
   "cell_type": "code",
   "execution_count": null,
   "id": "ca745f44",
   "metadata": {},
   "outputs": [],
   "source": [
    "tong_cate = df[[\"category\", \"finalWorth\"]].groupby(\"category\").sum()\n",
    "# DataFrame.sort_values(by=<ten_cot>, ascending=True|False)\n",
    "tong_cate_sorted = tong_cate.sort_values(by=\"finalWorth\", ascending=False)\n",
    "tong_cate_sorted.head(10)\n"
   ]
  },
  {
   "cell_type": "markdown",
   "id": "0a7129b1",
   "metadata": {},
   "source": [
    "- Phân tích: tính tài sản trung bình của các tỷ phú theo châu lục"
   ]
  }
 ],
 "metadata": {
  "kernelspec": {
   "display_name": "Python 3",
   "language": "python",
   "name": "python3"
  },
  "language_info": {
   "codemirror_mode": {
    "name": "ipython",
    "version": 3
   },
   "file_extension": ".py",
   "mimetype": "text/x-python",
   "name": "python",
   "nbconvert_exporter": "python",
   "pygments_lexer": "ipython3",
   "version": "3.9.6"
  }
 },
 "nbformat": 4,
 "nbformat_minor": 5
}
