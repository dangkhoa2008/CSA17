{
 "cells": [
  {
   "cell_type": "code",
   "execution_count": null,
   "id": "b6338dfb",
   "metadata": {},
   "outputs": [],
   "source": [
    "import pandas as pd\n",
    "df = pd.read_csv('car-sales-data.csv')"
   ]
  },
  {
   "cell_type": "markdown",
   "id": "046bf509",
   "metadata": {},
   "source": [
    "- 1 b\n",
    "- 2 b\n",
    "- 3 b\n",
    "- 4 b\n",
    "- 5 b\n",
    "- 6 b\n",
    "- 7 a\n",
    "- 8 b\n",
    "- 9 a\n",
    "- 10 b"
   ]
  },
  {
   "cell_type": "code",
   "execution_count": null,
   "id": "2c914861",
   "metadata": {},
   "outputs": [],
   "source": [
    "xe_dat_nhat = df.loc[df['Price'].idxmax()]\n",
    "\n",
    "print(\"Chiếc xe được bán với giá đắt nhất là:\")\n",
    "print(xe_dat_nhat[['Make', 'Colour', 'Odometer', 'Price']])"
   ]
  },
  {
   "cell_type": "code",
   "execution_count": null,
   "id": "43be5ac5",
   "metadata": {},
   "outputs": [],
   "source": [
    "df['Price_per_Km'] = df.apply(lambda row: row['Price'] / row['Odometer'] if row['Odometer'] > 0 else float('inf'), axis=1)\n",
    "\n",
    "xe_re_nhat_theo_km = df.loc[df['Price_per_Km'].idxmin()]\n",
    "\n",
    "print(\"\\nChiếc xe có giá trên mỗi kilomet đã đi được rẻ nhất là:\")\n",
    "print(xe_re_nhat_theo_km[['Make', 'Odometer', 'Price', 'Price_per_Km']])"
   ]
  },
  {
   "cell_type": "code",
   "execution_count": null,
   "id": "15a17baf",
   "metadata": {},
   "outputs": [],
   "source": [
    "trung_binh_gia_theo_hang = df.groupby('Make')['Price'].mean().sort_values(ascending=False)\n",
    "\n",
    "print(\"\\nTrung bình giá xe của các hãng xe:\")\n",
    "print(trung_binh_gia_theo_hang)\n",
    "\n",
    "hang_cao_nhat = trung_binh_gia_theo_hang.index[0]\n",
    "\n",
    "print(f\"\\nHãng xe có trung bình giá bán cao nhất là: **{hang_cao_nhat}** (Giá trung bình: ${trung_binh_gia_theo_hang.max():.2f})\")"
   ]
  }
 ],
 "metadata": {
  "kernelspec": {
   "display_name": "Python 3",
   "language": "python",
   "name": "python3"
  },
  "language_info": {
   "name": "python",
   "version": "3.9.6"
  }
 },
 "nbformat": 4,
 "nbformat_minor": 5
}
