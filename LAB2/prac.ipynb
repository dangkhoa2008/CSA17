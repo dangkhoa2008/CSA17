{
 "cells": [
  {
   "cell_type": "markdown",
   "id": "73a015de",
   "metadata": {},
   "source": [
    "Yêu cầu 1: Tạo một danh sách chứa các số từ 1 đến 100 "
   ]
  },
  {
   "cell_type": "code",
   "execution_count": 2,
   "id": "4bc6eceb",
   "metadata": {},
   "outputs": [
    {
     "data": {
      "text/plain": [
       "[70,\n",
       " 61,\n",
       " 1,\n",
       " 78,\n",
       " 34,\n",
       " 48,\n",
       " 14,\n",
       " 8,\n",
       " 56,\n",
       " 59,\n",
       " 59,\n",
       " 17,\n",
       " 54,\n",
       " 75,\n",
       " 5,\n",
       " 81,\n",
       " 62,\n",
       " 68,\n",
       " 57,\n",
       " 69,\n",
       " 26,\n",
       " 22,\n",
       " 31,\n",
       " 100,\n",
       " 42,\n",
       " 27,\n",
       " 47,\n",
       " 80,\n",
       " 40,\n",
       " 43,\n",
       " 33,\n",
       " 42,\n",
       " 64,\n",
       " 8,\n",
       " 70,\n",
       " 14,\n",
       " 30,\n",
       " 93,\n",
       " 26,\n",
       " 85,\n",
       " 72,\n",
       " 100,\n",
       " 5,\n",
       " 5,\n",
       " 74,\n",
       " 78,\n",
       " 95,\n",
       " 64,\n",
       " 85,\n",
       " 58,\n",
       " 68,\n",
       " 45,\n",
       " 18,\n",
       " 30,\n",
       " 91,\n",
       " 45,\n",
       " 74,\n",
       " 12,\n",
       " 9,\n",
       " 84,\n",
       " 4,\n",
       " 72,\n",
       " 77,\n",
       " 19,\n",
       " 10,\n",
       " 80,\n",
       " 76,\n",
       " 13,\n",
       " 8,\n",
       " 79,\n",
       " 6,\n",
       " 54,\n",
       " 32,\n",
       " 28,\n",
       " 10,\n",
       " 45,\n",
       " 5,\n",
       " 63,\n",
       " 81,\n",
       " 62,\n",
       " 90,\n",
       " 1,\n",
       " 67,\n",
       " 23,\n",
       " 1,\n",
       " 72,\n",
       " 33,\n",
       " 1,\n",
       " 32,\n",
       " 47,\n",
       " 69,\n",
       " 41,\n",
       " 49,\n",
       " 62,\n",
       " 66,\n",
       " 22,\n",
       " 5,\n",
       " 72,\n",
       " 96,\n",
       " 33]"
      ]
     },
     "execution_count": 2,
     "metadata": {},
     "output_type": "execute_result"
    }
   ],
   "source": [
    "import random\n",
    "ds1 = list(range(1,101))\n",
    "ds2 = [random.randint(1,100) for _ in range(100)]\n",
    "ds2"
   ]
  },
  {
   "cell_type": "markdown",
   "id": "d96189d1",
   "metadata": {},
   "source": [
    "Yêu cầu 2: Viết hàm tạo một danh sách mới chỉ chứa các số lẻ từ danh sách ban đầu"
   ]
  },
  {
   "cell_type": "code",
   "execution_count": 3,
   "id": "534f9a5c",
   "metadata": {},
   "outputs": [
    {
     "data": {
      "text/plain": [
       "[61,\n",
       " 1,\n",
       " 59,\n",
       " 59,\n",
       " 17,\n",
       " 75,\n",
       " 5,\n",
       " 81,\n",
       " 57,\n",
       " 69,\n",
       " 31,\n",
       " 27,\n",
       " 47,\n",
       " 43,\n",
       " 33,\n",
       " 93,\n",
       " 85,\n",
       " 5,\n",
       " 5,\n",
       " 95,\n",
       " 85,\n",
       " 45,\n",
       " 91,\n",
       " 45,\n",
       " 9,\n",
       " 77,\n",
       " 19,\n",
       " 13,\n",
       " 79,\n",
       " 45,\n",
       " 5,\n",
       " 63,\n",
       " 81,\n",
       " 1,\n",
       " 67,\n",
       " 23,\n",
       " 1,\n",
       " 33,\n",
       " 1,\n",
       " 47,\n",
       " 69,\n",
       " 41,\n",
       " 49,\n",
       " 5,\n",
       " 33]"
      ]
     },
     "execution_count": 3,
     "metadata": {},
     "output_type": "execute_result"
    }
   ],
   "source": [
    "def loc_so_le(ds):\n",
    "    return [i for i in ds if i % 2 != 0]\n",
    "\n",
    "loc_so_le(ds2)"
   ]
  },
  {
   "cell_type": "markdown",
   "id": "776089ef",
   "metadata": {},
   "source": [
    "Yêu cầu 3: Tạo một từ điển, trong đó: \n",
    "- mỗi khóa là một số từ 1 đến 10 \n",
    "- giá trị là bình phương của khoá\n",
    "- i: i**2\n"
   ]
  },
  {
   "cell_type": "code",
   "execution_count": 5,
   "id": "9d54bacb",
   "metadata": {},
   "outputs": [
    {
     "data": {
      "text/plain": [
       "{61: 3721,\n",
       " 1: 1,\n",
       " 59: 3481,\n",
       " 17: 289,\n",
       " 75: 5625,\n",
       " 5: 25,\n",
       " 81: 6561,\n",
       " 57: 3249,\n",
       " 69: 4761,\n",
       " 31: 961,\n",
       " 27: 729,\n",
       " 47: 2209,\n",
       " 43: 1849,\n",
       " 33: 1089,\n",
       " 93: 8649,\n",
       " 85: 7225,\n",
       " 95: 9025,\n",
       " 45: 2025,\n",
       " 91: 8281,\n",
       " 9: 81,\n",
       " 77: 5929,\n",
       " 19: 361,\n",
       " 13: 169,\n",
       " 79: 6241,\n",
       " 63: 3969,\n",
       " 67: 4489,\n",
       " 23: 529,\n",
       " 41: 1681,\n",
       " 49: 2401}"
      ]
     },
     "execution_count": 5,
     "metadata": {},
     "output_type": "execute_result"
    }
   ],
   "source": [
    "tu_dien = {i: i**2 for i in loc_so_le(ds2)}\n",
    "tu_dien"
   ]
  }
 ],
 "metadata": {
  "kernelspec": {
   "display_name": "Python 3",
   "language": "python",
   "name": "python3"
  },
  "language_info": {
   "codemirror_mode": {
    "name": "ipython",
    "version": 3
   },
   "file_extension": ".py",
   "mimetype": "text/x-python",
   "name": "python",
   "nbconvert_exporter": "python",
   "pygments_lexer": "ipython3",
   "version": "3.9.6"
  }
 },
 "nbformat": 4,
 "nbformat_minor": 5
}
