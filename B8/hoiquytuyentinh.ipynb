{
 "cells": [
  {
   "cell_type": "code",
   "execution_count": null,
   "id": "63fbff5e",
   "metadata": {},
   "outputs": [],
   "source": [
    "from sklearn.linear_model import LinearRegression\n",
    "import pandas as pd\n",
    "import matplotlib.pyplot as plt"
   ]
  },
  {
   "cell_type": "code",
   "execution_count": null,
   "id": "02bb8cb8",
   "metadata": {},
   "outputs": [],
   "source": [
    "df = pd.read_csv(\"sales.csv\")"
   ]
  },
  {
   "cell_type": "code",
   "execution_count": null,
   "id": "58e638c3",
   "metadata": {},
   "outputs": [],
   "source": [
    "≥÷Æ# ve bieu doi hoi quy\n",
    "plt.figure(figsize=(8, 6))\n",
    "sns.scatterplot(x=X[\"Radio\"], y=y, color=\"pink\", label=\"Dữ liệu thực tế\")\n",
    "plt.plot(\n",
    "    X[\"Radio\"], y_pred, color=\"purple\", linewidth=2, label=\"Đường hồi quy tuyến tính\"\n",
    ")\n",
    "plt.title(\"Mối quan hệ giữa chi phí quảng cáo trên Radio và doanh số\")\n",
    "plt.xlabel(\"Ngân sách quảng cáo Radio ($)\")\n",
    "plt.ylabel(\"Doanh số ($)\")\n",
    "plt.legend()\n",
    "plt.show()\n",
    "# --- In thông tin mô hình ---\n",
    "print(\"Hệ số hồi quy (slope):\", model.coef_[0])\n",
    "print(\"Hệ số chặn (intercept):\", model.intercept_)\n",
    "print(f\"Phương trình: Sales = {model.intercept_:.2f} + {model.coef_[0]:.2f} * Radio\")\n"
   ]
  }
 ],
 "metadata": {
  "language_info": {
   "name": "python"
  }
 },
 "nbformat": 4,
 "nbformat_minor": 5
}
